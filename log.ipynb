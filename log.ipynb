{
 "cells": [
  {
   "cell_type": "code",
   "execution_count": 31,
   "metadata": {},
   "outputs": [],
   "source": [
    "import getpass\n",
    "from datetime import date, datetime\n",
    "import pandas as pd\n",
    "import os\n",
    "\n",
    "\n",
    "def log(func):\n",
    "    def wrapper(*args, **kwargs):\n",
    "        original_result = func(*args, **kwargs)\n",
    "        \n",
    "        user_name = getpass.getuser()\n",
    "        func_name = func.__name__\n",
    "        formatted_date = date.today().strftime(\"%d-%m-%Y\")\n",
    "        formatted_time = datetime.now().time()\n",
    "\n",
    "        if os.path.isfile(\"logs.csv\"):\n",
    "            print(\"Файл существует\")\n",
    "            file_df = pd.read_csv(\"logs.csv\")\n",
    "            df = pd.DataFrame([len(file_df),user_name, func_name,formatted_date, formatted_time],\n",
    "            columns=['id','user_name', 'func_name', 'formatted_date', 'data_time'])\n",
    "            df.to_csv('logs.csv', mode='a', index=False)\n",
    "\n",
    "        else:\n",
    "            print(\"Файл не существует\")\n",
    "            df = pd.DataFrame([0 ,user_name, func_name,formatted_date, formatted_time],\n",
    "            columns=['id','user_name', 'func_name', 'formatted_date', 'data_time'])\n",
    "            df.to_csv('logs.csv')\n",
    "\n",
    "\n",
    "        return original_result\n",
    "    return wrapper\n"
   ]
  },
  {
   "cell_type": "code",
   "execution_count": 32,
   "metadata": {},
   "outputs": [],
   "source": [
    "@log\n",
    "def hello():\n",
    "    print(\"Hello!\")"
   ]
  },
  {
   "cell_type": "code",
   "execution_count": null,
   "metadata": {},
   "outputs": [],
   "source": [
    "hello()"
   ]
  }
 ],
 "metadata": {
  "kernelspec": {
   "display_name": "Python 3",
   "language": "python",
   "name": "python3"
  },
  "language_info": {
   "codemirror_mode": {
    "name": "ipython",
    "version": 3
   },
   "file_extension": ".py",
   "mimetype": "text/x-python",
   "name": "python",
   "nbconvert_exporter": "python",
   "pygments_lexer": "ipython3",
   "version": "3.12.3"
  }
 },
 "nbformat": 4,
 "nbformat_minor": 2
}
